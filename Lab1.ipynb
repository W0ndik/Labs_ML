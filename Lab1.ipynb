{
 "cells": [
  {
   "cell_type": "markdown",
   "metadata": {},
   "source": [
    "# Лабораторная работа № 1\n",
    "\n",
    "Группа М8О-109СВ-24\n",
    "\n",
    "Панкин Андрей Андреевич\n"
   ]
  },
  {
   "cell_type": "markdown",
   "metadata": {},
   "source": [
    "---"
   ]
  },
  {
   "cell_type": "code",
   "execution_count": null,
   "metadata": {},
   "outputs": [],
   "source": [
    "import numpy as np\n",
    "import matplotlib.pyplot as plt\n",
    "from matplotlib.animation import FuncAnimation"
   ]
  },
  {
   "cell_type": "markdown",
   "metadata": {},
   "source": [
    "---"
   ]
  },
  {
   "cell_type": "markdown",
   "metadata": {},
   "source": [
    "# Рисуем #"
   ]
  },
  {
   "cell_type": "code",
   "execution_count": null,
   "metadata": {},
   "outputs": [],
   "source": [
    "def plot_function(function, true_optimum, found_optimum, name):\n",
    "    x = np.linspace(-4.5, 4.5, 100)\n",
    "    y = np.linspace(-4.5, 4.5, 100)\n",
    "    X, Y = np.meshgrid(x, y)\n",
    "    Z = function(X, Y)\n",
    "\n",
    "    true_z = function(*true_optimum)\n",
    "\n",
    "    fig = plt.figure(figsize=(12, 8))\n",
    "    ax = fig.add_subplot(111, projection='3d')\n",
    "    ax.plot_surface(X, Y, Z, cmap='viridis', edgecolor='k', alpha=0.3)\n",
    "    ax.scatter(*true_optimum, true_z, color='red', s=10, label=\"Analytical Optimum\")\n",
    "    \n",
    "    for i, opt in enumerate(found_optimum):\n",
    "        z = function(*opt)\n",
    "        ax.scatter(opt[0], opt[1], z, color='blue', s=10, label=f\"Found Optimum {i+1}\")\n",
    "    \n",
    "    ax.set_title(name)\n",
    "    ax.set_xlabel('X')\n",
    "    ax.set_ylabel(\"Y\")\n",
    "    ax.set_zlabel(\"f(X, Y)\")\n",
    "    ax.legend()\n",
    "    \n",
    "    plt.show()"
   ]
  },
  {
   "cell_type": "markdown",
   "metadata": {},
   "source": [
    "---\n"
   ]
  },
  {
   "cell_type": "markdown",
   "metadata": {},
   "source": [
    "# Функция трёхгорбого верблюда #"
   ]
  },
  {
   "cell_type": "code",
   "execution_count": null,
   "metadata": {},
   "outputs": [],
   "source": [
    "def camel_func(x, y):\n",
    "    return 2 * x**2 - 1.05 * x**4 + (x**6) / 6 + x * y + y**2\n",
    "\n",
    "def grad_camel_func(x, y):\n",
    "    dx = 4 * x - 4.2 * x**3 + x**5 + y\n",
    "    dy = x + 2 * y\n",
    "    return np.array([dx, dy])\n",
    "\n",
    "camel_min = [0, 0]\n",
    "\n",
    "plot_function(camel_func, camel_min, [], 'трёхгорбый верблюд')"
   ]
  },
  {
   "cell_type": "markdown",
   "metadata": {},
   "source": [
    "# Функция МакКормика # "
   ]
  },
  {
   "cell_type": "code",
   "execution_count": null,
   "metadata": {},
   "outputs": [],
   "source": [
    "def mccormic_func(x, y):\n",
    "    return np.sin(x + y) + (x - y)**2 - 1.5 * x + 2.5 * y + 1\n",
    "\n",
    "def grad_mccormic_func(x, y):\n",
    "    dx = np.cos(x + y) + 2 * x - 2 * y - 1.5\n",
    "    dy = np.cos(x + y) - 2 * x + 2 * y + 2.5\n",
    "    return np.array([dx, dy])\n",
    "\n",
    "mccormic_min = [-0.54719, -1.54719]\n",
    "\n",
    "plot_function(mccormic_func, mccormic_min, [], 'МакКормик')"
   ]
  },
  {
   "cell_type": "markdown",
   "metadata": {},
   "source": [
    "---"
   ]
  },
  {
   "cell_type": "markdown",
   "metadata": {},
   "source": [
    "# Собственная реализация градиентного спуска #"
   ]
  },
  {
   "cell_type": "code",
   "execution_count": null,
   "metadata": {},
   "outputs": [],
   "source": [
    "def gradient_descent(grad, start_point, learning_rate=0.001, iterations=1000000):\n",
    "    point = np.array(start_point, dtype='float64')\n",
    "    for _ in range(iterations):\n",
    "        gradient = grad(point[0], point[1])\n",
    "        point = point - learning_rate * gradient\n",
    "    return point"
   ]
  },
  {
   "cell_type": "markdown",
   "metadata": {},
   "source": [
    "Запуск первый:"
   ]
  },
  {
   "cell_type": "code",
   "execution_count": null,
   "metadata": {},
   "outputs": [],
   "source": [
    "point = gradient_descent(grad_camel_func, [1.,1.])\n",
    "\n",
    "plot_function(camel_func, camel_min, [point], 'Трёхгорбый верблюд')\n",
    "print(point)"
   ]
  },
  {
   "cell_type": "code",
   "execution_count": null,
   "metadata": {},
   "outputs": [],
   "source": [
    "point = gradient_descent(grad_mccormic_func, [1.,1.])\n",
    "\n",
    "plot_function(mccormic_func, mccormic_min, [point], 'Функция МакКормика')\n",
    "print(point)"
   ]
  },
  {
   "cell_type": "markdown",
   "metadata": {},
   "source": [
    "Запуск второй:"
   ]
  },
  {
   "cell_type": "code",
   "execution_count": null,
   "metadata": {},
   "outputs": [],
   "source": [
    "point = gradient_descent(grad_camel_func, [-1.,-1.])\n",
    "\n",
    "plot_function(camel_func, camel_min, [point], 'Трёхгорбый верблюд')\n",
    "print(point)"
   ]
  },
  {
   "cell_type": "code",
   "execution_count": null,
   "metadata": {},
   "outputs": [],
   "source": [
    "point = gradient_descent(grad_mccormic_func, [-1.,-1.])\n",
    "\n",
    "plot_function(mccormic_func, mccormic_min, [point], 'Функция МакКормика')\n",
    "print(point)"
   ]
  },
  {
   "cell_type": "markdown",
   "metadata": {},
   "source": [
    "---"
   ]
  },
  {
   "cell_type": "markdown",
   "metadata": {},
   "source": [
    "# Нарисуем траекторию #"
   ]
  },
  {
   "cell_type": "code",
   "execution_count": null,
   "metadata": {},
   "outputs": [],
   "source": [
    "def plot_function_with_trajectory(function, true_optimum, trajectory, name):\n",
    "    x = np.linspace(-4.5, 4.5, 100)\n",
    "    y = np.linspace(-4.5, 4.5, 100)\n",
    "    X, Y = np.meshgrid(x, y)\n",
    "    Z = function(X, Y)\n",
    "\n",
    "    true_z = function(*true_optimum)\n",
    "\n",
    "    fig = plt.figure(figsize=(12, 8))\n",
    "    ax = fig.add_subplot(111, projection='3d')\n",
    "    ax.plot_surface(X, Y, Z, cmap='viridis', edgecolor='k', alpha=0.3)\n",
    "    \n",
    "    ax.scatter(*true_optimum, true_z, color='red', s=30, label=\"Analytical Optimum\")\n",
    "    \n",
    "    for i, (x, y) in enumerate(trajectory):\n",
    "        z = function(x, y)\n",
    "        ax.scatter(x, y, z, color='blue', s=3)\n",
    "        if i > 0:\n",
    "            ax.plot(\n",
    "                [trajectory[i-1][0], x],\n",
    "                [trajectory[i-1][1], y],\n",
    "                [function(*trajectory[i-1]), z],\n",
    "                color='orange',\n",
    "                linewidth=1.5,\n",
    "                alpha=0.8,\n",
    "            )\n",
    "    \n",
    "    ax.set_title(name)\n",
    "    ax.set_xlabel('X')\n",
    "    ax.set_ylabel(\"Y\")\n",
    "    ax.set_zlabel(\"f(X, Y)\")\n",
    "    ax.legend()\n",
    "    plt.show()"
   ]
  },
  {
   "cell_type": "code",
   "execution_count": null,
   "metadata": {},
   "outputs": [],
   "source": [
    "def gradient_descent_with_trajectory(grad, start_point, learning_rate=0.001, iterations=1000):\n",
    "    point = np.array(start_point, dtype='float64')\n",
    "    trajectory = [point.copy()]  # Храним траекторию точек\n",
    "    for _ in range(iterations):\n",
    "        gradient = grad(point[0], point[1])\n",
    "        point = point - learning_rate * gradient\n",
    "        trajectory.append(point.copy())  # Добавляем текущую точку в траекторию\n",
    "    return point, trajectory"
   ]
  },
  {
   "cell_type": "markdown",
   "metadata": {},
   "source": [
    "Запуск первый:"
   ]
  },
  {
   "cell_type": "code",
   "execution_count": null,
   "metadata": {},
   "outputs": [],
   "source": [
    "final_point, camel_trajectory = gradient_descent_with_trajectory(grad_camel_func, [1., 1.])\n",
    "\n",
    "plot_function_with_trajectory(camel_func, camel_min, camel_trajectory, 'Трёхгорбый верблюд')\n",
    "\n",
    "print(final_point)"
   ]
  },
  {
   "cell_type": "code",
   "execution_count": null,
   "metadata": {},
   "outputs": [],
   "source": [
    "final_point, mccormic_trajectory = gradient_descent_with_trajectory(grad_mccormic_func, [0., 0.])\n",
    "\n",
    "plot_function_with_trajectory(mccormic_func, mccormic_min, mccormic_trajectory, 'Функция МакКормика')\n",
    "\n",
    "print(final_point)"
   ]
  },
  {
   "cell_type": "markdown",
   "metadata": {},
   "source": [
    "Запуск второй:"
   ]
  },
  {
   "cell_type": "code",
   "execution_count": null,
   "metadata": {},
   "outputs": [],
   "source": [
    "final_point, camel_trajectory = gradient_descent_with_trajectory(grad_camel_func, [-1., -1.])\n",
    "\n",
    "plot_function_with_trajectory(camel_func, camel_min, camel_trajectory, 'Трёхгорбый верблюд')\n",
    "\n",
    "print(final_point)"
   ]
  },
  {
   "cell_type": "code",
   "execution_count": null,
   "metadata": {},
   "outputs": [],
   "source": [
    "final_point, mccormic_trajectory = gradient_descent_with_trajectory(grad_mccormic_func, [-1., -1.])\n",
    "\n",
    "plot_function_with_trajectory(mccormic_func, mccormic_min, mccormic_trajectory, 'Функция МакКормика')\n",
    "\n",
    "print(final_point)"
   ]
  },
  {
   "cell_type": "markdown",
   "metadata": {},
   "source": [
    "---\n"
   ]
  },
  {
   "cell_type": "code",
   "execution_count": null,
   "metadata": {},
   "outputs": [],
   "source": [
    "def momentum_gradient_descent(gradient, start_point, learning_rate, iterations, momentum=0.9):\n",
    "    point = np.array(start_point, dtype='float64')\n",
    "    velocity = np.zeros_like(point)\n",
    "    \n",
    "    for _ in range(iterations):\n",
    "        grad = gradient(point[0], point[1])\n",
    "        velocity = momentum * velocity - learning_rate * grad\n",
    "        point = point + velocity\n",
    "    \n",
    "    return point"
   ]
  },
  {
   "cell_type": "code",
   "execution_count": null,
   "metadata": {},
   "outputs": [],
   "source": [
    "def gradient_descent(gradient, start_point, learning_rate, iterations):\n",
    "    point = np.array(start_point, dtype='float64')\n",
    "    for _ in range(iterations):\n",
    "        grad = gradient(point[0], point[1])\n",
    "        point = point - learning_rate * grad\n",
    "    return point"
   ]
  }
 ],
 "metadata": {
  "kernelspec": {
   "display_name": ".venv",
   "language": "python",
   "name": "python3"
  },
  "language_info": {
   "codemirror_mode": {
    "name": "ipython",
    "version": 3
   },
   "file_extension": ".py",
   "mimetype": "text/x-python",
   "name": "python",
   "nbconvert_exporter": "python",
   "pygments_lexer": "ipython3",
   "version": "3.11.2"
  }
 },
 "nbformat": 4,
 "nbformat_minor": 2
}
