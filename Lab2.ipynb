{
 "cells": [
  {
   "cell_type": "markdown",
   "metadata": {},
   "source": [
    "# Лабораторная работа № 2\n",
    "\n",
    "Группа М8О-109СВ-24\n",
    "\n",
    "Панкин Андрей Андреевич\n",
    "\n",
    "(Предварительный вывод: Мне не понравилось, что для pygmo пришлось устанавливать conda)"
   ]
  },
  {
   "cell_type": "markdown",
   "metadata": {},
   "source": [
    "---\n"
   ]
  },
  {
   "cell_type": "code",
   "execution_count": 6,
   "metadata": {},
   "outputs": [],
   "source": [
    "import pygmo as pg\n",
    "import numpy as np\n",
    "import pandas as pd"
   ]
  },
  {
   "cell_type": "markdown",
   "metadata": {},
   "source": [
    "# Тестовые функции #"
   ]
  },
  {
   "cell_type": "code",
   "execution_count": 7,
   "metadata": {},
   "outputs": [],
   "source": [
    "class ThreeHumpCamelFunction:\n",
    "    def fitness(self, x):\n",
    "        return [2 * x[0]**2 - 1.05 * x[0]**4 + (x[0]**6) / 6 + x[0] * x[1] + x[1]**2]  # Трёхгорбый верблюд\n",
    "\n",
    "    def get_bounds(self):\n",
    "        return ([-5, -5], [5, 5])  \n",
    "\n",
    "class McCormickFunction:\n",
    "    def fitness(self, x):\n",
    "        return [np.sin(x[0] + x[1]) + (x[0] - x[1])**2 - 1.5 * x[0] + 2.5 * x[1] + 1]  # МакКормик\n",
    "\n",
    "    def get_bounds(self):\n",
    "        return ([-1.5, -3], [4, 4]) \n"
   ]
  },
  {
   "cell_type": "code",
   "execution_count": null,
   "metadata": {},
   "outputs": [],
   "source": [
    "functions = [\n",
    "    (\"ThreeHumpCamel\", ThreeHumpCamelFunction()),\n",
    "    (\"McCormick\", McCormickFunction())\n",
    "]"
   ]
  },
  {
   "cell_type": "markdown",
   "metadata": {},
   "source": [
    "---"
   ]
  },
  {
   "cell_type": "markdown",
   "metadata": {},
   "source": [
    "# Алгоритмы нахождения оптимума #"
   ]
  },
  {
   "cell_type": "code",
   "execution_count": 8,
   "metadata": {},
   "outputs": [],
   "source": [
    "algorithms = [\n",
    "    (\"DE\", pg.algorithm(pg.de())),  # Дифференциальная эволюция\n",
    "    (\"PSO\", pg.algorithm(pg.pso())),  # Рой частиц\n",
    "    (\"SA\", pg.algorithm(pg.simulated_annealing()))  # Имитация отжига\n",
    "]"
   ]
  },
  {
   "cell_type": "code",
   "execution_count": 9,
   "metadata": {},
   "outputs": [],
   "source": [
    "results = []\n",
    "\n",
    "for func_name, func in functions:\n",
    "    prob = pg.problem(func)\n",
    "    for algo_name, algo in algorithms:\n",
    "        solutions = []\n",
    "        for _ in range(5):\n",
    "            archi = pg.archipelago(n=1, algo=algo, prob=prob, pop_size=20)\n",
    "            archi.evolve()\n",
    "            archi.wait()\n",
    "            sols = archi.get_champions_f()\n",
    "            solutions.extend(sols)\n",
    "        avg_fitness = np.mean(solutions)\n",
    "        results.append({\"Function\": func_name, \"Algorithm\": algo_name, \"Average Fitness\": avg_fitness})\n",
    "\n",
    "results_df = pd.DataFrame(results)"
   ]
  },
  {
   "cell_type": "code",
   "execution_count": 10,
   "metadata": {},
   "outputs": [
    {
     "name": "stdout",
     "output_type": "stream",
     "text": [
      "         Function Algorithm  Average Fitness\n",
      "0  ThreeHumpCamel        DE         0.367023\n",
      "1  ThreeHumpCamel       PSO         0.345507\n",
      "2  ThreeHumpCamel        SA         0.005550\n",
      "3       McCormick        DE        -1.567059\n",
      "4       McCormick       PSO        -1.654509\n",
      "5       McCormick        SA        -1.897929\n"
     ]
    }
   ],
   "source": [
    "print(results_df)"
   ]
  },
  {
   "cell_type": "markdown",
   "metadata": {},
   "source": [
    "---"
   ]
  },
  {
   "cell_type": "markdown",
   "metadata": {},
   "source": [
    "В ходе выполнения лабораторной работы были протестированы две тестовые функции оптимизации:  \n",
    "- **Функция трёхгорбого верблюда**  \n",
    "- **Функция МакКормика**  \n",
    "\n",
    "Для их оптимизации применялись три алгоритма из библиотеки Pygmo:  \n",
    "- Дифференциальная эволюция (**DE**)  \n",
    "- Рой частиц (**PSO**)  \n",
    "- Имитация отжига (**SA**)  \n",
    "\n",
    "Результаты экспериментов представлены в таблице ниже:\n",
    "\n",
    "| Function         | Algorithm | Average Fitness |\n",
    "|------------------|-----------|-----------------|\n",
    "| ThreeHumpCamel   | DE        | 0.367023        |\n",
    "| ThreeHumpCamel   | PSO       | 0.345507        |\n",
    "| ThreeHumpCamel   | SA        | 0.005550        |\n",
    "| McCormick        | DE        | -1.567059       |\n",
    "| McCormick        | PSO       | -1.654509       |\n",
    "| McCormick        | SA        | -1.897929       |\n",
    "\n",
    "### Анализ результатов:\n",
    "1. На функции **трёхгорбого верблюда** лучшего результата достиг метод **SA (имитация отжига)**, показав минимальное значение средней целевой функции (0.005550).  \n",
    "2. На функции **МакКормика** метод **SA** также продемонстрировал лучший результат, с минимальным значением средней целевой функции (-1.897929).  \n",
    "3. Методы **DE** и **PSO** показали схожие результаты, но уступили **SA** на обеих функциях.  \n",
    "\n",
    "### Выводы:\n",
    "1. Метод имитации отжига (**SA**) показал себя наиболее эффективным на задачах оптимизации функций с несколькими экстремумами.  \n",
    "2. Методы дифференциальной эволюции (**DE**) и роя частиц (**PSO**) также продемонстрировали хорошие результаты, но они могут быть менее точными на некоторых задачах.  \n",
    "3. Выбор подходящего алгоритма зависит от особенностей задачи и требуемой точности.  \n",
    "\n",
    "Работа с библиотекой Pygmo мне не очень понравилась в силу того, что она не устанавливается через pip.\n"
   ]
  }
 ],
 "metadata": {
  "kernelspec": {
   "display_name": "base",
   "language": "python",
   "name": "python3"
  },
  "language_info": {
   "codemirror_mode": {
    "name": "ipython",
    "version": 3
   },
   "file_extension": ".py",
   "mimetype": "text/x-python",
   "name": "python",
   "nbconvert_exporter": "python",
   "pygments_lexer": "ipython3",
   "version": "3.12.3"
  }
 },
 "nbformat": 4,
 "nbformat_minor": 2
}
