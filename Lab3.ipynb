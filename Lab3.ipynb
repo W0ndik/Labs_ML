{
 "cells": [
  {
   "cell_type": "markdown",
   "metadata": {},
   "source": [
    "# Лабораторная работа № 3\n",
    "\n",
    "Группа М8О-109СВ-24\n",
    "\n",
    "Панкин Андрей Андреевич\n"
   ]
  },
  {
   "cell_type": "markdown",
   "metadata": {},
   "source": [
    "---"
   ]
  },
  {
   "cell_type": "markdown",
   "metadata": {},
   "source": [
    "Я ну ОЧЕНЬ не хотел разбираться в оптуне и поэтому потратил своё время на разбор математических основ диффузионных моделей (курс подрезал у Никиты Сорокина), в моменте это казалось более интересным.\n",
    "\n",
    "![image1](image1.webp)"
   ]
  }
 ],
 "metadata": {
  "kernelspec": {
   "display_name": ".venv",
   "language": "python",
   "name": "python3"
  },
  "language_info": {
   "name": "python",
   "version": "3.11.2"
  }
 },
 "nbformat": 4,
 "nbformat_minor": 2
}
